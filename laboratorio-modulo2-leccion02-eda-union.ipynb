{
 "cells": [
  {
   "cell_type": "markdown",
   "metadata": {},
   "source": [
    "<div style=\"text-align: center;\">\n",
    "  <img src=\"https://github.com/Hack-io-Data/Imagenes/blob/main/01-LogosHackio/logo_naranja@4x.png?raw=true\" alt=\"esquema\" />\n",
    "</div>"
   ]
  },
  {
   "cell_type": "markdown",
   "metadata": {},
   "source": [
    "# Laboratorio Pandas (EDA y Unión de Datos)\n",
    "\n",
    "## Los datos\n",
    "\n",
    "Para este laboratorio, trabajarás con los siguientes conjuntos de datos:\n",
    "\n",
    "- **`netflix_originals.csv`**: Contiene información sobre producciones originales de Netflix. Las columnas que nos encontraremos en este conjunto de datos son: \n",
    "\n",
    "   - `Title`: Contiene el nombre del título de la producción original de Netflix.\n",
    "\n",
    "   - `Genre`: Especifica el género o combinación de géneros de la producción.\n",
    "\n",
    "   - `Premiere`: Indica la fecha de estreno de la producción en Netflix.\n",
    "\n",
    "   - `Runtime`: Contiene la duración de la producción en minutos.\n",
    "\n",
    "   - `IMDB Score`: Representa la calificación promedio que la producción ha recibido en la plataforma IMDB.\n",
    "\n",
    "   - `Language`: Especifica el idioma principal o los idiomas en los que se presenta la producción.\n",
    "\n",
    "- **`netflix_titles.csv`**: Contiene información sobre una variedad de títulos disponibles en la plataforma Netflix, incluyendo tanto películas como series de televisión. Las columnas que nos encontraremos en este conjunto de datos son:\n",
    "\n",
    "   - `show_id`: Identificador único para cada título en el dataset.\n",
    "\n",
    "   - `type`: Especifica el tipo de contenido, ya sea \"Movie\" (película) o \"TV Show\" (serie de televisión).\n",
    "\n",
    "   - `title`: Contiene el nombre del título de la producción.\n",
    "\n",
    "   - `director`: Muestra el nombre del director del título. Puede estar vacío en algunos casos.\n",
    "\n",
    "   - `cast`: Lista de actores y actrices que participaron en el título. También puede estar vacío en algunos casos.\n",
    "\n",
    "   - `country`: País o países donde se produjo el título. Esta columna también puede tener valores faltantes.\n",
    "\n",
    "   - `date_added`: Fecha en la que el título fue añadido al catálogo de Netflix.\n",
    "\n",
    "   - `release_year`: Año en que el título fue lanzado o producido.\n",
    "\n",
    "   - `rating`: Clasificación del contenido en términos de audiencia (por ejemplo, PG-13, TV-MA).\n",
    "\n",
    "   - `duration`: Duración del título. Para películas, se expresa en minutos (e.g., \"90 min\") y para series en temporadas (e.g., \"2 Seasons\").\n",
    "\n",
    "   - `listed_in`: Categorías o géneros bajo los cuales el título está clasificado (por ejemplo, \"Documentaries\", \"TV Dramas\").\n",
    "\n",
    "   - `description`: Breve sinopsis o descripción del contenido del título.\n",
    "\n",
    "A lo largo de los laboratorios de Pandas, trabajarás con estos conjuntos de datos (o con los derivados del Laboratorio), algunas de las actividades que realizaremos son:\n",
    "\n",
    "- Exploración de datos y análisis exploratorio (EDA) para familiarizarse con los conjuntos de datos.\n",
    "\n",
    "- Realización de uniones entre conjuntos de datos, aplicando diferentes técnicas de *merging* y analizando la relevancia de cada método.\n",
    "\n",
    "- Uso de funciones de selección y filtrado (`loc`, `iloc`) para extraer información clave.\n",
    "\n",
    "- Desarrollo de análisis descriptivos y visualización de patrones para comprender mejor las decisiones estratégicas de la plataforma.\n",
    "\n",
    "----\n",
    "\n",
    "## Objetivo General de la Serie de Laboratorios\n",
    "\n",
    "\n",
    "\n",
    "1. **Unión de `netflix_titles.csv` con `netflix_originals.csv`:**\n",
    "\n",
    "   - **Análisis de contenido original:**  Identificarás los títulos que son producciones originales de Netflix y los compararás con los títulos adquiridos. Este análisis te permitirá:\n",
    "\n",
    "     - Comparar la diversidad de géneros entre los títulos originales y no originales.\n",
    "\n",
    "     - Evaluar si ciertos géneros o tipos de contenido (como documentales o series) son más frecuentes en las producciones originales.\n",
    "\n",
    "     - Investigar si la producción original se concentra en determinados países o idiomas.\n",
    "\n",
    "\n",
    "   - **Evaluación de contenido:** En esta etapa, explorarás si las producciones originales de Netflix tienden a recibir mejores o peores evaluaciones en comparación con el contenido adquirido. Algunas preguntas que se buscarán responder incluyen:\n",
    "\n",
    "     - ¿Los títulos originales tienen una calificación promedio superior en plataformas como IMDB?\n",
    "\n",
    "     - ¿Son las producciones originales más consistentes en términos de calidad percibida?\n",
    "\n",
    "     - ¿Existen diferencias en la popularidad de los títulos originales según su género o país de origen?\n",
    "\n",
    "\n",
    "   - **Identificación de tendencias:**  Por último, este análisis te permitirá explorar cómo ha evolucionado la estrategia de contenido de Netflix a lo largo del tiempo. Algunos puntos clave a investigar serán:\n",
    "\n",
    "     - ¿Cómo ha crecido la producción original en comparación con la adquisición de contenido?\n",
    "\n",
    "     - ¿Qué géneros o tipos de contenido han recibido mayor inversión en los últimos años?\n",
    "     \n",
    "     - ¿Existen patrones en los países o idiomas de las producciones originales, especialmente en relación con la expansión global de Netflix?\n",
    "\n",
    "\n",
    "----\n",
    "\n",
    "\n",
    "## Ejercicio: Análisis y Enriquecimiento del Catálogo de Netflix\n",
    "\n",
    "### Parte 1: Análisis Exploratorio de Datos (EDA)\n",
    "\n",
    "1. **Carga de los datos:**\n",
    "\n",
    "   - Deberás cargar los dos conjuntos de datos que te hemos proporcionado para realizar este Laboratorio:\n",
    "\n",
    "     - `netflix_originals.csv`\n",
    "\n",
    "     - `netflix_titles.csv`\n",
    "\n",
    "   Deberás revisar la estructura de cada conjunto de datos utilizando los métodos aprendidos durante la lección.\n",
    "\n",
    "2. **Análisis de columnas y consistencia:**\n",
    "\n",
    "   - Deberás hacer un análisis exploratorio de cada uno de los conjuntos de datos. Será obligatorio que incluyas las conclusiones generales obtenidas de cada uno de los análisis exploratorios en el Jupyter Notebook de tus soluciones.\n",
    "\n",
    "   - Explorar qué columnas contiene cada conjunto de datos y cuáles son sus tipos de datos. Identificar si hay valores nulos o duplicados.\n",
    "\n",
    "   - Algunas preguntas que nos podemos plantear en esta fase son (recuerda que esto es solo un ejemplo, y que podemos explorar todo lo que queramos/necesitemos para entender lo mejor posible los conjuntos de datos):\n",
    "\n",
    "      - ¿Cuáles son los tipos de datos de cada columna? Nos puede ayudar a detectar si algún tipo de dato está incorrectamente asignado, como fechas almacenadas como cadenas de texto.\n",
    "\n",
    "      - ¿Existen valores nulos? ¿En qué columnas están? Este paso es crucial para decidir si deben ser eliminados, rellenados o ignorados.\n",
    "\n",
    "      - ¿Cuántos títulos únicos hay en cada conjunto de datos? Nos puede permitir verificar si existen títulos duplicados que puedan distorsionar el análisis.\n",
    "\n",
    "      - ¿Qué géneros tenemos en el conjunto de datos? Esto nos puede ayudar a identificar los géneros más populares o incluso a identificar una posible limpieza de dicha columna para poder extraer conclusiones más claras en nuestro análisis.\n",
    "\n",
    "### Parte 2: Unión de Datos\n",
    "\n",
    "1. **Realización de la unión:**\n",
    "\n",
    "   - Deberás realizar la unión que consideres más apropiada entre `netflix_titles.csv` y `netflix_originals.csv`. Además, deberás justificar el tipo de unión que has realizado.\n",
    "\n",
    "   - Esto nos ayudará a contestar preguntas más adelente del tipo:\n",
    "\n",
    "     - ¿Cuántos títulos en `netflix_titles.csv` son producciones originales de Netflix?\n",
    "\n",
    "     - ¿Hay diferencias significativas en la puntuación de IMDB entre títulos originales y no originales?\n",
    "\n",
    "### Parte 3: Uso de `loc` e `iloc`\n",
    "\n",
    "Usando el DataFrame creado en la Parte 2: \n",
    "\n",
    "1. **Filtrado de datos con `loc`:**\n",
    "\n",
    "   - Selecciona todas las filas donde el tipo de contenido sea “Movie”.\n",
    "\n",
    "   - Muestra solo los títulos (title) y la duración (duration) de todos los contenidos que sean de tipo “TV Show”.\n",
    "\n",
    "   - Selecciona todas las filas donde el país sea “United States”.\n",
    "\n",
    "   - Muestra todas las películas (type = “Movie”) y selecciona las columnas title y director.\n",
    "\n",
    "   - Selecciona los títulos (title) y géneros (listed_in) de todas las producciones lanzadas en 2018.\n",
    "\n",
    "   - Selecciona las filas donde la columna director esté vacía y muestra solo los títulos (title).\n",
    "\n",
    "2. **Acceso a datos específicos con `iloc`:**\n",
    "\n",
    "   - Selecciona las primeras 5 filas del conjunto de datos y muestra solo las columnas title, director y country.\n",
    "\n",
    "   - Muestra las últimas 5 filas del conjunto de datos y selecciona las columnas title y description.\n",
    "\n",
    "   - Selecciona las primeras 10 filas del dataset y muestra las columnas desde la segunda hasta la quinta (incluidas). \n",
    "\n",
    "   - Muestra las últimas 7 filas del dataset y selecciona las columnas title, director, y country usando índices posicionales.\n",
    "\n",
    "   - Selecciona las filas desde la 15 hasta la 25 (incluidas) y muestra las primeras 4 columnas.\n",
    "\n",
    "   - Muestra las filas 20 a 30 y solo las columnas title, release_year, y rating usando índices posicionales.\n",
    "\n",
    "\n",
    "**NOTA IMPORTANTE**: Antes de terminar el lab, guarda el conjunto de datos creado en la fase de unión para trabajar con el en las siguientes lecciones. "
   ]
  },
  {
   "cell_type": "code",
   "execution_count": 2,
   "metadata": {},
   "outputs": [],
   "source": [
    "import pandas as pd\n",
    "import numpy as np"
   ]
  },
  {
   "cell_type": "code",
   "execution_count": 3,
   "metadata": {},
   "outputs": [],
   "source": [
    "df_netflix = pd.read_csv('datos/netflix_titles.csv',index_col=0)\n",
    "df_netflixo = pd.read_csv('datos/netflix_originals.csv',index_col=0)"
   ]
  },
  {
   "cell_type": "code",
   "execution_count": null,
   "metadata": {},
   "outputs": [],
   "source": [
    "df_netflixo.head()      # tenemos el Data de el archivo csv netflix original"
   ]
  },
  {
   "cell_type": "code",
   "execution_count": null,
   "metadata": {},
   "outputs": [],
   "source": [
    "df_netflix.head()       # tenemos el Data de el archivo csv netflix titulos"
   ]
  },
  {
   "cell_type": "code",
   "execution_count": 8,
   "metadata": {},
   "outputs": [
    {
     "data": {
      "text/plain": [
       "(513, 6)"
      ]
     },
     "execution_count": 8,
     "metadata": {},
     "output_type": "execute_result"
    }
   ],
   "source": [
    "df_netflixo.shape           #Netflix originales 513 filas y 6 columnas\n"
   ]
  },
  {
   "cell_type": "code",
   "execution_count": 9,
   "metadata": {},
   "outputs": [
    {
     "data": {
      "text/plain": [
       "(8807, 12)"
      ]
     },
     "execution_count": 9,
     "metadata": {},
     "output_type": "execute_result"
    }
   ],
   "source": [
    "df_netflix.shape           #Netflix titulos 8807 filas y 12 columnas"
   ]
  },
  {
   "cell_type": "code",
   "execution_count": 10,
   "metadata": {},
   "outputs": [
    {
     "data": {
      "text/plain": [
       "np.int64(0)"
      ]
     },
     "execution_count": 10,
     "metadata": {},
     "output_type": "execute_result"
    }
   ],
   "source": [
    "df_netflixo.duplicated().sum()          #numeros de duplicados en el dataF netfilx original"
   ]
  },
  {
   "cell_type": "code",
   "execution_count": 11,
   "metadata": {},
   "outputs": [
    {
     "data": {
      "text/plain": [
       "np.int64(0)"
      ]
     },
     "execution_count": 11,
     "metadata": {},
     "output_type": "execute_result"
    }
   ],
   "source": [
    "df_netflix.duplicated().sum()                  #numeros de duplicados en el dataF netfilx titulos"
   ]
  },
  {
   "cell_type": "code",
   "execution_count": 12,
   "metadata": {},
   "outputs": [
    {
     "data": {
      "text/plain": [
       "Title          object\n",
       "Genre          object\n",
       "Premiere       object\n",
       "Runtime         int64\n",
       "IMDB Score    float64\n",
       "Language       object\n",
       "dtype: object"
      ]
     },
     "execution_count": 12,
     "metadata": {},
     "output_type": "execute_result"
    }
   ],
   "source": [
    "df_netflixo.dtypes                      #tipos de datos que tenemos en el dataF Netflix original"
   ]
  },
  {
   "cell_type": "code",
   "execution_count": 13,
   "metadata": {},
   "outputs": [
    {
     "data": {
      "text/plain": [
       "show_id         object\n",
       "type            object\n",
       "title           object\n",
       "director        object\n",
       "cast            object\n",
       "country         object\n",
       "date_added      object\n",
       "release_year     int64\n",
       "rating          object\n",
       "duration        object\n",
       "listed_in       object\n",
       "description     object\n",
       "dtype: object"
      ]
     },
     "execution_count": 13,
     "metadata": {},
     "output_type": "execute_result"
    }
   ],
   "source": [
    "df_netflix.dtypes           #tipos de datos que tenemos en el dataF Netflix titulos"
   ]
  },
  {
   "cell_type": "code",
   "execution_count": 14,
   "metadata": {},
   "outputs": [
    {
     "data": {
      "text/plain": [
       "Runtime  IMDB Score\n",
       "97       6.4           3\n",
       "92       6.2           3\n",
       "95       5.8           3\n",
       "92       5.8           3\n",
       "94       5.5           3\n",
       "                      ..\n",
       "28       6.8           1\n",
       "         7.0           1\n",
       "30       6.3           1\n",
       "         6.9           1\n",
       "139      6.2           1\n",
       "Name: count, Length: 471, dtype: int64"
      ]
     },
     "execution_count": 14,
     "metadata": {},
     "output_type": "execute_result"
    }
   ],
   "source": [
    "df_netflixo.select_dtypes(np.number).value_counts()  # datos int en DataF netflix orginal y catidad de estos por cada dato"
   ]
  },
  {
   "cell_type": "code",
   "execution_count": 15,
   "metadata": {},
   "outputs": [
    {
     "data": {
      "text/plain": [
       "release_year\n",
       "2018            1147\n",
       "2017            1032\n",
       "2019            1030\n",
       "2020             953\n",
       "2016             902\n",
       "                ... \n",
       "1925               1\n",
       "1947               1\n",
       "1959               1\n",
       "1966               1\n",
       "1961               1\n",
       "Name: count, Length: 74, dtype: int64"
      ]
     },
     "execution_count": 15,
     "metadata": {},
     "output_type": "execute_result"
    }
   ],
   "source": [
    "df_netflix.select_dtypes(np.number).value_counts()  # datos int en DataF netflix titulos y catidad de estos por cada dato"
   ]
  },
  {
   "cell_type": "code",
   "execution_count": 16,
   "metadata": {},
   "outputs": [
    {
     "data": {
      "text/html": [
       "<div>\n",
       "<style scoped>\n",
       "    .dataframe tbody tr th:only-of-type {\n",
       "        vertical-align: middle;\n",
       "    }\n",
       "\n",
       "    .dataframe tbody tr th {\n",
       "        vertical-align: top;\n",
       "    }\n",
       "\n",
       "    .dataframe thead th {\n",
       "        text-align: right;\n",
       "    }\n",
       "</style>\n",
       "<table border=\"1\" class=\"dataframe\">\n",
       "  <thead>\n",
       "    <tr style=\"text-align: right;\">\n",
       "      <th></th>\n",
       "      <th>count</th>\n",
       "      <th>unique</th>\n",
       "      <th>top</th>\n",
       "      <th>freq</th>\n",
       "    </tr>\n",
       "  </thead>\n",
       "  <tbody>\n",
       "    <tr>\n",
       "      <th>Title</th>\n",
       "      <td>513</td>\n",
       "      <td>513</td>\n",
       "      <td>David Attenborough: A Life on Our Planet</td>\n",
       "      <td>1</td>\n",
       "    </tr>\n",
       "    <tr>\n",
       "      <th>Genre</th>\n",
       "      <td>513</td>\n",
       "      <td>106</td>\n",
       "      <td>Documentary</td>\n",
       "      <td>132</td>\n",
       "    </tr>\n",
       "    <tr>\n",
       "      <th>Premiere</th>\n",
       "      <td>513</td>\n",
       "      <td>350</td>\n",
       "      <td>October 18, 2019</td>\n",
       "      <td>5</td>\n",
       "    </tr>\n",
       "    <tr>\n",
       "      <th>Language</th>\n",
       "      <td>513</td>\n",
       "      <td>37</td>\n",
       "      <td>English</td>\n",
       "      <td>352</td>\n",
       "    </tr>\n",
       "  </tbody>\n",
       "</table>\n",
       "</div>"
      ],
      "text/plain": [
       "         count unique                                       top freq\n",
       "Title      513    513  David Attenborough: A Life on Our Planet    1\n",
       "Genre      513    106                               Documentary  132\n",
       "Premiere   513    350                          October 18, 2019    5\n",
       "Language   513     37                                   English  352"
      ]
     },
     "execution_count": 16,
     "metadata": {},
     "output_type": "execute_result"
    }
   ],
   "source": [
    "df_netflixo.describe(include= 'O').T        #tipos de datos objet en el dataf netflix originales"
   ]
  },
  {
   "cell_type": "code",
   "execution_count": 17,
   "metadata": {},
   "outputs": [
    {
     "data": {
      "text/html": [
       "<div>\n",
       "<style scoped>\n",
       "    .dataframe tbody tr th:only-of-type {\n",
       "        vertical-align: middle;\n",
       "    }\n",
       "\n",
       "    .dataframe tbody tr th {\n",
       "        vertical-align: top;\n",
       "    }\n",
       "\n",
       "    .dataframe thead th {\n",
       "        text-align: right;\n",
       "    }\n",
       "</style>\n",
       "<table border=\"1\" class=\"dataframe\">\n",
       "  <thead>\n",
       "    <tr style=\"text-align: right;\">\n",
       "      <th></th>\n",
       "      <th>count</th>\n",
       "      <th>unique</th>\n",
       "      <th>top</th>\n",
       "      <th>freq</th>\n",
       "    </tr>\n",
       "  </thead>\n",
       "  <tbody>\n",
       "    <tr>\n",
       "      <th>show_id</th>\n",
       "      <td>8807</td>\n",
       "      <td>8807</td>\n",
       "      <td>s8807</td>\n",
       "      <td>1</td>\n",
       "    </tr>\n",
       "    <tr>\n",
       "      <th>type</th>\n",
       "      <td>8807</td>\n",
       "      <td>2</td>\n",
       "      <td>Movie</td>\n",
       "      <td>6131</td>\n",
       "    </tr>\n",
       "    <tr>\n",
       "      <th>title</th>\n",
       "      <td>8807</td>\n",
       "      <td>8807</td>\n",
       "      <td>Zubaan</td>\n",
       "      <td>1</td>\n",
       "    </tr>\n",
       "    <tr>\n",
       "      <th>director</th>\n",
       "      <td>6173</td>\n",
       "      <td>4528</td>\n",
       "      <td>Rajiv Chilaka</td>\n",
       "      <td>19</td>\n",
       "    </tr>\n",
       "    <tr>\n",
       "      <th>cast</th>\n",
       "      <td>7982</td>\n",
       "      <td>7692</td>\n",
       "      <td>David Attenborough</td>\n",
       "      <td>19</td>\n",
       "    </tr>\n",
       "    <tr>\n",
       "      <th>country</th>\n",
       "      <td>7976</td>\n",
       "      <td>748</td>\n",
       "      <td>United States</td>\n",
       "      <td>2818</td>\n",
       "    </tr>\n",
       "    <tr>\n",
       "      <th>date_added</th>\n",
       "      <td>8797</td>\n",
       "      <td>1767</td>\n",
       "      <td>January 1, 2020</td>\n",
       "      <td>109</td>\n",
       "    </tr>\n",
       "    <tr>\n",
       "      <th>rating</th>\n",
       "      <td>8803</td>\n",
       "      <td>17</td>\n",
       "      <td>TV-MA</td>\n",
       "      <td>3207</td>\n",
       "    </tr>\n",
       "    <tr>\n",
       "      <th>duration</th>\n",
       "      <td>3994</td>\n",
       "      <td>185</td>\n",
       "      <td>2 Seasons</td>\n",
       "      <td>425</td>\n",
       "    </tr>\n",
       "    <tr>\n",
       "      <th>listed_in</th>\n",
       "      <td>8807</td>\n",
       "      <td>514</td>\n",
       "      <td>Dramas, International Movies</td>\n",
       "      <td>362</td>\n",
       "    </tr>\n",
       "    <tr>\n",
       "      <th>description</th>\n",
       "      <td>8807</td>\n",
       "      <td>8775</td>\n",
       "      <td>Paranormal activity at a lush, abandoned prope...</td>\n",
       "      <td>4</td>\n",
       "    </tr>\n",
       "  </tbody>\n",
       "</table>\n",
       "</div>"
      ],
      "text/plain": [
       "            count unique                                                top  \\\n",
       "show_id      8807   8807                                              s8807   \n",
       "type         8807      2                                              Movie   \n",
       "title        8807   8807                                             Zubaan   \n",
       "director     6173   4528                                      Rajiv Chilaka   \n",
       "cast         7982   7692                                 David Attenborough   \n",
       "country      7976    748                                      United States   \n",
       "date_added   8797   1767                                    January 1, 2020   \n",
       "rating       8803     17                                              TV-MA   \n",
       "duration     3994    185                                          2 Seasons   \n",
       "listed_in    8807    514                       Dramas, International Movies   \n",
       "description  8807   8775  Paranormal activity at a lush, abandoned prope...   \n",
       "\n",
       "             freq  \n",
       "show_id         1  \n",
       "type         6131  \n",
       "title           1  \n",
       "director       19  \n",
       "cast           19  \n",
       "country      2818  \n",
       "date_added    109  \n",
       "rating       3207  \n",
       "duration      425  \n",
       "listed_in     362  \n",
       "description     4  "
      ]
     },
     "execution_count": 17,
     "metadata": {},
     "output_type": "execute_result"
    }
   ],
   "source": [
    "df_netflix.describe(include= 'O').T   #tipos de datos objet en el dataf netflix originales"
   ]
  },
  {
   "cell_type": "code",
   "execution_count": 136,
   "metadata": {},
   "outputs": [
    {
     "data": {
      "text/plain": [
       "title         0.0\n",
       "Genre         0.0\n",
       "Premiere      0.0\n",
       "Runtime       0.0\n",
       "IMDB Score    0.0\n",
       "Language      0.0\n",
       "dtype: float64"
      ]
     },
     "execution_count": 136,
     "metadata": {},
     "output_type": "execute_result"
    }
   ],
   "source": [
    "round(df_netflixo.isnull().sum()/df_netflixo.shape[0]*100,2)    #porcentajes de datos nulos en dataf netflix original"
   ]
  },
  {
   "cell_type": "code",
   "execution_count": 137,
   "metadata": {},
   "outputs": [
    {
     "data": {
      "text/plain": [
       "show_id          0.00\n",
       "type             0.00\n",
       "title            0.00\n",
       "director        29.91\n",
       "cast             9.37\n",
       "country          9.44\n",
       "date_added       0.11\n",
       "release_year     0.00\n",
       "rating           0.05\n",
       "duration        54.65\n",
       "listed_in        0.00\n",
       "description      0.00\n",
       "dtype: float64"
      ]
     },
     "execution_count": 137,
     "metadata": {},
     "output_type": "execute_result"
    }
   ],
   "source": [
    "\n",
    "round(df_netflix.isnull().sum()/df_netflix.shape[0]*100,2)       #porcentajes de datos nulos en dataf netflix titulos"
   ]
  },
  {
   "cell_type": "code",
   "execution_count": 57,
   "metadata": {},
   "outputs": [
    {
     "data": {
      "text/plain": [
       "Genre\n",
       "Documentary                             132\n",
       "Drama                                    73\n",
       "Comedy                                   42\n",
       "Romantic comedy                          35\n",
       "Thriller                                 33\n",
       "                                       ... \n",
       "Action-adventure                          1\n",
       "Concert Film                              1\n",
       "Animation / Science Fiction               1\n",
       "Anthology/Dark comedy                     1\n",
       "Animation/Christmas/Comedy/Adventure      1\n",
       "Name: count, Length: 106, dtype: int64"
      ]
     },
     "execution_count": 57,
     "metadata": {},
     "output_type": "execute_result"
    }
   ],
   "source": [
    "generos_Netflixo = df_netflixo['Genre'].value_counts()\n",
    "generos_Netflixo                                            #generos y cantidades de estos en netflix original"
   ]
  },
  {
   "cell_type": "code",
   "execution_count": 21,
   "metadata": {},
   "outputs": [
    {
     "data": {
      "text/plain": [
       "type\n",
       "Movie      6131\n",
       "TV Show    2676\n",
       "Name: count, dtype: int64"
      ]
     },
     "execution_count": 21,
     "metadata": {},
     "output_type": "execute_result"
    }
   ],
   "source": [
    "df_netflix['type'].value_counts()     #tipos de shows y cantidades en netflix titles"
   ]
  },
  {
   "cell_type": "code",
   "execution_count": 23,
   "metadata": {},
   "outputs": [
    {
     "name": "stdout",
     "output_type": "stream",
     "text": [
      "<class 'pandas.core.frame.DataFrame'>\n",
      "Index: 8807 entries, 0 to 8806\n",
      "Data columns (total 12 columns):\n",
      " #   Column        Non-Null Count  Dtype \n",
      "---  ------        --------------  ----- \n",
      " 0   show_id       8807 non-null   object\n",
      " 1   type          8807 non-null   object\n",
      " 2   title         8807 non-null   object\n",
      " 3   director      6173 non-null   object\n",
      " 4   cast          7982 non-null   object\n",
      " 5   country       7976 non-null   object\n",
      " 6   date_added    8797 non-null   object\n",
      " 7   release_year  8807 non-null   int64 \n",
      " 8   rating        8803 non-null   object\n",
      " 9   duration      3994 non-null   object\n",
      " 10  listed_in     8807 non-null   object\n",
      " 11  description   8807 non-null   object\n",
      "dtypes: int64(1), object(11)\n",
      "memory usage: 894.5+ KB\n"
     ]
    }
   ],
   "source": [
    "df_netflix.info()           #info global de el dataf netflix titles\n"
   ]
  },
  {
   "cell_type": "code",
   "execution_count": 22,
   "metadata": {},
   "outputs": [
    {
     "name": "stdout",
     "output_type": "stream",
     "text": [
      "<class 'pandas.core.frame.DataFrame'>\n",
      "Index: 513 entries, 0 to 583\n",
      "Data columns (total 6 columns):\n",
      " #   Column      Non-Null Count  Dtype  \n",
      "---  ------      --------------  -----  \n",
      " 0   Title       513 non-null    object \n",
      " 1   Genre       513 non-null    object \n",
      " 2   Premiere    513 non-null    object \n",
      " 3   Runtime     513 non-null    int64  \n",
      " 4   IMDB Score  513 non-null    float64\n",
      " 5   Language    513 non-null    object \n",
      "dtypes: float64(1), int64(1), object(4)\n",
      "memory usage: 28.1+ KB\n"
     ]
    }
   ],
   "source": [
    "df_netflixo.info()           #info global de el dataf netflix titles"
   ]
  },
  {
   "cell_type": "code",
   "execution_count": 36,
   "metadata": {},
   "outputs": [],
   "source": [
    "df_netflixo.rename(columns={'Title': 'title'}, inplace=True)        #reemplazamos Title por title para unir los dos Datas"
   ]
  },
  {
   "cell_type": "code",
   "execution_count": 39,
   "metadata": {},
   "outputs": [],
   "source": [
    "\n",
    "df_nuevo = df_netflixo.merge(df_netflix, on=\"title\", how=\"right\")           #unimos los dos datas mediante Titel y que nos deje todos los datos de las 2 tablas "
   ]
  },
  {
   "cell_type": "code",
   "execution_count": 127,
   "metadata": {},
   "outputs": [
    {
     "data": {
      "text/html": [
       "<div>\n",
       "<style scoped>\n",
       "    .dataframe tbody tr th:only-of-type {\n",
       "        vertical-align: middle;\n",
       "    }\n",
       "\n",
       "    .dataframe tbody tr th {\n",
       "        vertical-align: top;\n",
       "    }\n",
       "\n",
       "    .dataframe thead th {\n",
       "        text-align: right;\n",
       "    }\n",
       "</style>\n",
       "<table border=\"1\" class=\"dataframe\">\n",
       "  <thead>\n",
       "    <tr style=\"text-align: right;\">\n",
       "      <th></th>\n",
       "      <th>title</th>\n",
       "      <th>Genre</th>\n",
       "      <th>Premiere</th>\n",
       "      <th>Runtime</th>\n",
       "      <th>IMDB Score</th>\n",
       "      <th>Language</th>\n",
       "      <th>show_id</th>\n",
       "      <th>type</th>\n",
       "      <th>director</th>\n",
       "      <th>cast</th>\n",
       "      <th>country</th>\n",
       "      <th>date_added</th>\n",
       "      <th>release_year</th>\n",
       "      <th>rating</th>\n",
       "      <th>duration</th>\n",
       "      <th>listed_in</th>\n",
       "      <th>description</th>\n",
       "    </tr>\n",
       "  </thead>\n",
       "  <tbody>\n",
       "    <tr>\n",
       "      <th>0</th>\n",
       "      <td>Dick Johnson Is Dead</td>\n",
       "      <td>Documentary</td>\n",
       "      <td>October 2, 2020</td>\n",
       "      <td>90.0</td>\n",
       "      <td>7.5</td>\n",
       "      <td>English</td>\n",
       "      <td>s1</td>\n",
       "      <td>Movie</td>\n",
       "      <td>Kirsten Johnson</td>\n",
       "      <td>NaN</td>\n",
       "      <td>United States</td>\n",
       "      <td>September 25, 2021</td>\n",
       "      <td>2020</td>\n",
       "      <td>PG-13</td>\n",
       "      <td>90 min</td>\n",
       "      <td>Documentaries</td>\n",
       "      <td>As her father nears the end of his life, filmm...</td>\n",
       "    </tr>\n",
       "  </tbody>\n",
       "</table>\n",
       "</div>"
      ],
      "text/plain": [
       "                  title        Genre         Premiere  Runtime  IMDB Score  \\\n",
       "0  Dick Johnson Is Dead  Documentary  October 2, 2020     90.0         7.5   \n",
       "\n",
       "  Language show_id   type         director cast        country  \\\n",
       "0  English      s1  Movie  Kirsten Johnson  NaN  United States   \n",
       "\n",
       "           date_added  release_year rating duration      listed_in  \\\n",
       "0  September 25, 2021          2020  PG-13   90 min  Documentaries   \n",
       "\n",
       "                                         description  \n",
       "0  As her father nears the end of his life, filmm...  "
      ]
     },
     "execution_count": 127,
     "metadata": {},
     "output_type": "execute_result"
    }
   ],
   "source": [
    "df_nuevo.head(1)"
   ]
  },
  {
   "cell_type": "code",
   "execution_count": 60,
   "metadata": {},
   "outputs": [],
   "source": [
    "movies = df_nuevo.loc[df_nuevo['type'] == 'Movie']      #Seleccionamos los datos que sean peliculas\n"
   ]
  },
  {
   "cell_type": "code",
   "execution_count": 69,
   "metadata": {},
   "outputs": [],
   "source": [
    "Tv_shows= df_nuevo.loc[df_nuevo['type']== 'TV Show']        #Seleccionamos dentro de los datos TV las columnas tiempo y los titulos\n",
    "Tv_shows_duracion= Tv_shows[['Runtime','title']]"
   ]
  },
  {
   "cell_type": "code",
   "execution_count": 73,
   "metadata": {},
   "outputs": [],
   "source": [
    "df_EEUU = df_nuevo[df_nuevo['country'] == 'United States']  #Sacamos los datos solo del pais EEUU"
   ]
  },
  {
   "cell_type": "code",
   "execution_count": 77,
   "metadata": {},
   "outputs": [],
   "source": [
    "#Datos solo de peliculas junto al titulo y al director de la pelicula\n",
    "peliculas_titulo_director = df_nuevo.loc[df_nuevo['type'] == 'Movie', ['title', 'director']]"
   ]
  },
  {
   "cell_type": "code",
   "execution_count": 81,
   "metadata": {},
   "outputs": [],
   "source": [
    "#datos de producciones en el año 2018 junto con su titulo y tipo de show\n",
    "producciones18 = df_nuevo.loc[df_nuevo['release_year'] == 2018, ['title', 'listed_in']]\n"
   ]
  },
  {
   "cell_type": "code",
   "execution_count": 87,
   "metadata": {},
   "outputs": [],
   "source": [
    "#datos de titulos donde el el dato del director esta vacio\n",
    "columnasvacias = df_nuevo[df_nuevo['director'].isnull()]['title']"
   ]
  },
  {
   "cell_type": "code",
   "execution_count": 93,
   "metadata": {},
   "outputs": [],
   "source": [
    "#datos de las 4 primeras filas donde consta titulo,director y pais\n",
    "titulo_director_con = df_nuevo.loc[:4, ['title', 'director', 'country']]\n"
   ]
  },
  {
   "cell_type": "code",
   "execution_count": 105,
   "metadata": {},
   "outputs": [],
   "source": [
    "#datos de las utlimas 5 filas con titulo y descripcion, su resultado no arroja datos\n",
    "ultimascinco= df_nuevo.loc[:-5, ['title', 'description']]"
   ]
  },
  {
   "cell_type": "code",
   "execution_count": 109,
   "metadata": {},
   "outputs": [],
   "source": [
    "seleccion_filas_columnas = df_nuevo.iloc[:10, 1:5]"
   ]
  },
  {
   "cell_type": "code",
   "execution_count": 117,
   "metadata": {},
   "outputs": [],
   "source": [
    "#datos de las ultimas 7 filas con titulo genero y pais\n",
    "filas7ultimas = df_nuevo.iloc[-7:, [0, 1, 10]]\n"
   ]
  },
  {
   "cell_type": "code",
   "execution_count": 123,
   "metadata": {},
   "outputs": [],
   "source": [
    "#datos de las filas 15 a la 25 las 4 primas columnas\n",
    "datos1= df_nuevo.iloc[14:26, :4]\n"
   ]
  },
  {
   "cell_type": "code",
   "execution_count": 128,
   "metadata": {},
   "outputs": [
    {
     "data": {
      "text/html": [
       "<div>\n",
       "<style scoped>\n",
       "    .dataframe tbody tr th:only-of-type {\n",
       "        vertical-align: middle;\n",
       "    }\n",
       "\n",
       "    .dataframe tbody tr th {\n",
       "        vertical-align: top;\n",
       "    }\n",
       "\n",
       "    .dataframe thead th {\n",
       "        text-align: right;\n",
       "    }\n",
       "</style>\n",
       "<table border=\"1\" class=\"dataframe\">\n",
       "  <thead>\n",
       "    <tr style=\"text-align: right;\">\n",
       "      <th></th>\n",
       "      <th>title</th>\n",
       "      <th>release_year</th>\n",
       "      <th>rating</th>\n",
       "    </tr>\n",
       "  </thead>\n",
       "  <tbody>\n",
       "    <tr>\n",
       "      <th>19</th>\n",
       "      <td>Jaguar</td>\n",
       "      <td>2021</td>\n",
       "      <td>TV-MA</td>\n",
       "    </tr>\n",
       "    <tr>\n",
       "      <th>20</th>\n",
       "      <td>Monsters Inside: The 24 Faces of Billy Milligan</td>\n",
       "      <td>2021</td>\n",
       "      <td>TV-14</td>\n",
       "    </tr>\n",
       "    <tr>\n",
       "      <th>21</th>\n",
       "      <td>Resurrection: Ertugrul</td>\n",
       "      <td>2018</td>\n",
       "      <td>TV-14</td>\n",
       "    </tr>\n",
       "    <tr>\n",
       "      <th>22</th>\n",
       "      <td>Avvai Shanmughi</td>\n",
       "      <td>1996</td>\n",
       "      <td>TV-PG</td>\n",
       "    </tr>\n",
       "    <tr>\n",
       "      <th>23</th>\n",
       "      <td>Go! Go! Cory Carson: Chrissy Takes the Wheel</td>\n",
       "      <td>2021</td>\n",
       "      <td>TV-Y</td>\n",
       "    </tr>\n",
       "    <tr>\n",
       "      <th>24</th>\n",
       "      <td>Jeans</td>\n",
       "      <td>1998</td>\n",
       "      <td>TV-14</td>\n",
       "    </tr>\n",
       "    <tr>\n",
       "      <th>25</th>\n",
       "      <td>Love on the Spectrum</td>\n",
       "      <td>2021</td>\n",
       "      <td>TV-14</td>\n",
       "    </tr>\n",
       "    <tr>\n",
       "      <th>26</th>\n",
       "      <td>Minsara Kanavu</td>\n",
       "      <td>1997</td>\n",
       "      <td>TV-PG</td>\n",
       "    </tr>\n",
       "    <tr>\n",
       "      <th>27</th>\n",
       "      <td>Grown Ups</td>\n",
       "      <td>2010</td>\n",
       "      <td>PG-13</td>\n",
       "    </tr>\n",
       "    <tr>\n",
       "      <th>28</th>\n",
       "      <td>Dark Skies</td>\n",
       "      <td>2013</td>\n",
       "      <td>PG-13</td>\n",
       "    </tr>\n",
       "    <tr>\n",
       "      <th>29</th>\n",
       "      <td>Paranoia</td>\n",
       "      <td>2013</td>\n",
       "      <td>PG-13</td>\n",
       "    </tr>\n",
       "    <tr>\n",
       "      <th>30</th>\n",
       "      <td>Ankahi Kahaniya</td>\n",
       "      <td>2021</td>\n",
       "      <td>TV-14</td>\n",
       "    </tr>\n",
       "  </tbody>\n",
       "</table>\n",
       "</div>"
      ],
      "text/plain": [
       "                                              title  release_year rating\n",
       "19                                           Jaguar          2021  TV-MA\n",
       "20  Monsters Inside: The 24 Faces of Billy Milligan          2021  TV-14\n",
       "21                           Resurrection: Ertugrul          2018  TV-14\n",
       "22                                  Avvai Shanmughi          1996  TV-PG\n",
       "23     Go! Go! Cory Carson: Chrissy Takes the Wheel          2021   TV-Y\n",
       "24                                            Jeans          1998  TV-14\n",
       "25                             Love on the Spectrum          2021  TV-14\n",
       "26                                   Minsara Kanavu          1997  TV-PG\n",
       "27                                        Grown Ups          2010  PG-13\n",
       "28                                       Dark Skies          2013  PG-13\n",
       "29                                         Paranoia          2013  PG-13\n",
       "30                                  Ankahi Kahaniya          2021  TV-14"
      ]
     },
     "execution_count": 128,
     "metadata": {},
     "output_type": "execute_result"
    }
   ],
   "source": [
    "#Datos obtenidos desde la fila 19 a la 30 incluida con las columnas titulo año de lanzamiento y rating\n",
    "Datos2 = df_nuevo.iloc[19:31, [0, 12, 13]]\n"
   ]
  },
  {
   "cell_type": "code",
   "execution_count": 129,
   "metadata": {},
   "outputs": [],
   "source": [
    "df_nuevo.to_csv('datos/Lab2.csv')  "
   ]
  },
  {
   "cell_type": "markdown",
   "metadata": {},
   "source": [
    "**Conclusiones del estudio**\n",
    "\n",
    "En primer lugar comentar que el  estudio partia de unos datos en los que no teniamos datos duplicados, pero si que teniamos datos nulos los cuales serian interesantes de analizar puesto que afectan al director, al pais de origen de la pelicula ,a la duracion de la misma y al ratin. Este aspecto seria conveniente analizar mas adelante con una posible limpieza o sustitucion de los datos.\n",
    "\n",
    "-La primera observacion que podemos plasmar es que dentro de los 8.806 titulos de la plataforma total de Netfilx solo 512 titulos son originales de esta plataforma, lo que representa 5.8% de los titulos del total.\n",
    "\n",
    "-Observamos que la plataforma esta en su mayoria completa por titulos con fechas de lanzamientos actuales partiendo estos desde 2016 teniendo su pico en 2018 con 1147 titulos en este año dado. Teniendo estos datos final en el año 2020.\n",
    "\n",
    "-Los generos mas demandados dentro de la plataforma en la muestra dada son Dramas, International Movies dentro del global de la plataforma y dentro de los titulos originales de esta, lo mas destacado se encuentra en la cateforia documentales.\n",
    "\n",
    "El idioma que mas destaca es el ingles.\n",
    "\n",
    "Dentro del total de titulos destaca gran mayoria de peliculas con respecto a TV shows, representando las peliculas un 69,961%.\n",
    "\n",
    "\n",
    "*Proximos pasos*\n",
    "\n",
    "Seria interensante un estudio mas detenido de IMDB Score dentro de los generos y los años de las peliculas, para asi saber relacionar la puntuacion con el pais, el genero y la duracion de las peliculas, para poder obtener un resultado en el que podamos saber que tipo de genero y con que duracion de show tiene mas exito y en los paises en los que este exito se tendria.\n"
   ]
  }
 ],
 "metadata": {
  "kernelspec": {
   "display_name": "Python 3",
   "language": "python",
   "name": "python3"
  },
  "language_info": {
   "codemirror_mode": {
    "name": "ipython",
    "version": 3
   },
   "file_extension": ".py",
   "mimetype": "text/x-python",
   "name": "python",
   "nbconvert_exporter": "python",
   "pygments_lexer": "ipython3",
   "version": "3.12.6"
  }
 },
 "nbformat": 4,
 "nbformat_minor": 2
}
